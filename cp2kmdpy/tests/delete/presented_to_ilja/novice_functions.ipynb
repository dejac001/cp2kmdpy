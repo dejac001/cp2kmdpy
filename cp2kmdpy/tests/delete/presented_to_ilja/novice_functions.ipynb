{
 "cells": [
  {
   "cell_type": "code",
   "execution_count": 2,
   "metadata": {},
   "outputs": [],
   "source": [
    "import mbuild as mb\n",
    "from cssi_cp2k.classes import SIM as sim\n",
    "# read this: https://www.cp2k.org/_media/events:2015_cecam_tutorial:watkins_optimization.pdf for more knowledge"
   ]
  },
  {
   "cell_type": "code",
   "execution_count": 3,
   "metadata": {},
   "outputs": [],
   "source": [
    "def info_molecule(molecule):\n",
    "    num_atoms=len(molecule.atoms)\n",
    "    name_atoms=[];\n",
    "    mass_atoms=[];\n",
    "    for i in range(num_atoms):\n",
    "        name_atoms.append(molecule.atoms[i].element_name)\n",
    "        mass_atoms.append(molecule.atoms[i].mass)\n",
    "    molecular_mass=sum(mass_atoms)\n",
    "    return name_atoms,mass_atoms,molecular_mass"
   ]
  },
  {
   "cell_type": "code",
   "execution_count": 4,
   "metadata": {},
   "outputs": [],
   "source": [
    "def remove_duplicate(x):\n",
    "    return list(dict.fromkeys(x))\n",
    "\n"
   ]
  },
  {
   "cell_type": "code",
   "execution_count": 5,
   "metadata": {},
   "outputs": [],
   "source": [
    "def basis_set(element_symbol):\n",
    "    #HERE I should define all the elements and all the basis set\n",
    "    if element_symbol=='H':\n",
    "        return \"TZV2PX-MOLOPT-GTH\"\n",
    "    elif element_symbol=='F':\n",
    "        return \"TZV2PX-MOLOPT-GTH\"\n",
    "    elif element_symbol=='Cl':\n",
    "        return \"TZV2PX-MOLOPT-GTH\"\n",
    "    elif element_symbol=='I':\n",
    "        return \"DZVP-MOLOPT-SR-GTH\"\n",
    "        "
   ]
  },
  {
   "cell_type": "code",
   "execution_count": 6,
   "metadata": {},
   "outputs": [],
   "source": [
    "def potential(element_symbol,functional):\n",
    "    return \"GTH-\"+functional\n",
    "        "
   ]
  },
  {
   "cell_type": "code",
   "execution_count": 8,
   "metadata": {},
   "outputs": [],
   "source": [
    "def optimize_molecule(molecule,functional,length,dir):\n",
    "    molecule.save('mol_unopt_coord.xyz',overwrite='True')\n",
    "    with open('mol_unopt_coord.xyz', 'r') as fin:\n",
    "        data = fin.read().splitlines(True)\n",
    "    with open('mol_unopt_coord.xyz', 'w') as fout:\n",
    "        fout.writelines(data[2:])\n",
    "    molecule=molecule.to_parmed()\n",
    "    atom_list,mass_list,total_mass=info_molecule(molecule)\n",
    "    unique_atom_list=remove_duplicate(atom_list)\n",
    "    num_atoms=len(atom_list)\n",
    "    num_unique_atoms=len(unique_atom_list)\n",
    "\n",
    "    mySim = sim.SIM()\n",
    "\n",
    "    mySim.GLOBAL.RUN_TYPE = \"GEO_OPT\"\n",
    "    mySim.GLOBAL.PROJECT  = \"molecule_opt\"\n",
    "    mySim.GLOBAL.PRINT_LEVEL = \"LOW\"\n",
    "    #FORCE EVAL SECTION\n",
    "    mySim.FORCE_EVAL.METHOD='QUICKSTEP'\n",
    "    mySim.FORCE_EVAL.SUBSYS.CELL.ABC='{L} {L} {L}'.format(L=length)\n",
    "    mySim.FORCE_EVAL.SUBSYS.COORD.DEFAULT_KEYWORD='mol_unopt_coord.xyz'\n",
    "    mySim.FORCE_EVAL.SUBSYS.init_atoms(num_atoms);\n",
    "    for i in range(num_unique_atoms):\n",
    "        mySim.FORCE_EVAL.SUBSYS.KIND[i+1].SECTION_PARAMETERS=unique_atom_list[i]\n",
    "        mySim.FORCE_EVAL.SUBSYS.KIND[i+1].BASIS_SET=basis_set(unique_atom_list[i])\n",
    "        mySim.FORCE_EVAL.SUBSYS.KIND[i+1].POTENTIAL=potential(unique_atom_list[i],functional)\n",
    "\n",
    "    mySim.FORCE_EVAL.DFT.BASIS_SET_FILE_NAME=dir+'BASIS_MOLOPT'\n",
    "    mySim.FORCE_EVAL.DFT.POTENTIAL_FILE_NAME=dir+'GTH_POTENTIALS'\n",
    "    mySim.FORCE_EVAL.DFT.QS.EPS_DEFAULT=1E-10\n",
    "\n",
    "    mySim.FORCE_EVAL.DFT.MGRID.CUTOFF=400\n",
    "    mySim.FORCE_EVAL.DFT.MGRID.REL_CUTOFF=40\n",
    "    mySim.FORCE_EVAL.DFT.MGRID.NGRIDS=5\n",
    "\n",
    "    mySim.FORCE_EVAL.DFT.XC.XC_FUNCTIONAL.SECTION_PARAMETERS=functional\n",
    "    mySim.FORCE_EVAL.DFT.XC.VDW_POTENTIAL.POTENTIAL_TYPE='PAIR_POTENTIAL'\n",
    "    mySim.FORCE_EVAL.DFT.XC.VDW_POTENTIAL.PAIR_POTENTIAL.TYPE='DFTD3'\n",
    "    mySim.FORCE_EVAL.DFT.XC.VDW_POTENTIAL.PAIR_POTENTIAL.PARAMETER_FILE_NAME='dftd3.dat'\n",
    "    mySim.FORCE_EVAL.DFT.XC.VDW_POTENTIAL.PAIR_POTENTIAL.REFERENCE_FUNCTIONAL=functional\n",
    "    mySim.FORCE_EVAL.DFT.XC.VDW_POTENTIAL.PAIR_POTENTIAL.R_CUTOFF=11\n",
    "\n",
    "    mySim.FORCE_EVAL.DFT.SCF.SCF_GUESS='ATOMIC'\n",
    "    mySim.FORCE_EVAL.DFT.SCF.MAX_SCF=200\n",
    "    mySim.FORCE_EVAL.DFT.SCF.EPS_SCF=1E-6\n",
    "\n",
    "    mySim.MOTION.GEO_OPT.TYPE='MINIMIZATION'\n",
    "    mySim.MOTION.GEO_OPT.OPTIMIZER='BFGS'\n",
    "    mySim.MOTION.GEO_OPT.MAX_ITER=200\n",
    "    mySim.MOTION.GEO_OPT.MAX_DR=1e-3\n",
    "\n",
    "    mySim.MOTION.CONSTRAINT.FIXED_ATOMS.LIST ='1'\n",
    "    mySim.write_changeLog(fn=\"mol_opt-changeLog.out\")\n",
    "    mySim.write_errorLog()\n",
    "    mySim.write_inputFile(fn='mol_opt.inp')"
   ]
  },
  {
   "cell_type": "code",
   "execution_count": null,
   "metadata": {},
   "outputs": [],
   "source": []
  }
 ],
 "metadata": {
  "kernelspec": {
   "display_name": "Python 3",
   "language": "python",
   "name": "python3"
  },
  "language_info": {
   "codemirror_mode": {
    "name": "ipython",
    "version": 3
   },
   "file_extension": ".py",
   "mimetype": "text/x-python",
   "name": "python",
   "nbconvert_exporter": "python",
   "pygments_lexer": "ipython3",
   "version": "3.6.8"
  }
 },
 "nbformat": 4,
 "nbformat_minor": 2
}
