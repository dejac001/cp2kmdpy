{
 "cells": [
  {
   "cell_type": "code",
   "execution_count": 1,
   "metadata": {},
   "outputs": [],
   "source": [
    "#import os\n",
    "#import sys\n",
    "#curr_dir=os.getcwd()\n",
    "#sys.path.append(curr_dir)\n",
    "import mbuild as mb # all lengths in mbuild are in nm\n",
    "import novice_functions"
   ]
  },
  {
   "cell_type": "code",
   "execution_count": 2,
   "metadata": {},
   "outputs": [],
   "source": [
    "class Cl2(mb.Compound): # this class builds a chlorine molecule with a bond-length given in the chlorine2 x coor (nm)\n",
    "    def __init__(self):\n",
    "        super(Cl2, self).__init__()\n",
    "        \n",
    "        chlorine1= mb.Particle(pos=[0.0, 0.0, 0.0], name='Cl')\n",
    "        chlorine2= mb.Particle(pos=[0.2, 0.0, 0.0], name='Cl')\n",
    "        self.add([chlorine2,chlorine1])\n",
    "        self.add_bond((chlorine2,chlorine1))"
   ]
  },
  {
   "cell_type": "code",
   "execution_count": 3,
   "metadata": {},
   "outputs": [],
   "source": [
    "cl2=Cl2();\n",
    "molecule=cl2;\n",
    "# you have defined the molecule, now please define the forcefield (XC Functional), Temperature (in Kelvin) and Length (nm) of the box\n",
    "\n",
    "functional='BLYP'\n",
    "dir= '/home/siepmann/singh891/cp2k-6.1.0/data/' # your cp2k data folder with a slash('/') at the end\n",
    "Temperature= 177 # units are in Kelvin\n",
    "box_length=1.2 # box side length in nm\n",
    "\n"
   ]
  },
  {
   "cell_type": "code",
   "execution_count": 4,
   "metadata": {},
   "outputs": [],
   "source": [
    "novice_functions.optimize_molecule(molecule,functional, box_length,dir) # now we have the file for geo_opt\n",
    "\n",
    "#optimizing the structure using CP2K\n",
    "#First saving the .xyz file from mbuild for CP2K input\n",
    "\n",
    "# now write the cp2k opti file\n"
   ]
  },
  {
   "cell_type": "code",
   "execution_count": null,
   "metadata": {},
   "outputs": [],
   "source": [
    "#cl2.energy_minimize(steps=100, algorithm='steep', forcefield='GAFF')\n"
   ]
  },
  {
   "cell_type": "code",
   "execution_count": null,
   "metadata": {},
   "outputs": [],
   "source": [
    "p=cl2.xyz"
   ]
  },
  {
   "cell_type": "code",
   "execution_count": null,
   "metadata": {},
   "outputs": [],
   "source": [
    "(sum(p[0]-p[1])**2)**0.5\n"
   ]
  },
  {
   "cell_type": "code",
   "execution_count": null,
   "metadata": {},
   "outputs": [],
   "source": [
    "c"
   ]
  },
  {
   "cell_type": "code",
   "execution_count": null,
   "metadata": {},
   "outputs": [],
   "source": [
    "! cat novice_functions.py"
   ]
  },
  {
   "cell_type": "code",
   "execution_count": null,
   "metadata": {},
   "outputs": [],
   "source": [
    "name_atoms"
   ]
  },
  {
   "cell_type": "code",
   "execution_count": null,
   "metadata": {},
   "outputs": [],
   "source": [
    "molecular_mass"
   ]
  },
  {
   "cell_type": "code",
   "execution_count": null,
   "metadata": {},
   "outputs": [],
   "source": [
    "#write the cp2k opt file\n",
    "XC_functional='BLYP' # you can change this, valid options: 'BLYP' and 'PBE' \n"
   ]
  },
  {
   "cell_type": "code",
   "execution_count": null,
   "metadata": {},
   "outputs": [],
   "source": [
    "cl2.energy_minimize(steps=100, algorithm='steep', forcefield='GAFF')\n"
   ]
  },
  {
   "cell_type": "code",
   "execution_count": null,
   "metadata": {},
   "outputs": [],
   "source": [
    "coor=cl2.xyz\n"
   ]
  },
  {
   "cell_type": "code",
   "execution_count": null,
   "metadata": {},
   "outputs": [],
   "source": [
    "coor[1]-coor[0]"
   ]
  },
  {
   "cell_type": "code",
   "execution_count": null,
   "metadata": {},
   "outputs": [],
   "source": [
    "(sum((coor[1]-coor[0])**2))**0.5"
   ]
  },
  {
   "cell_type": "code",
   "execution_count": null,
   "metadata": {},
   "outputs": [],
   "source": [
    "coor[1][1]=0"
   ]
  },
  {
   "cell_type": "code",
   "execution_count": null,
   "metadata": {},
   "outputs": [],
   "source": [
    "cl2.xyz[1][1]=10"
   ]
  },
  {
   "cell_type": "code",
   "execution_count": null,
   "metadata": {},
   "outputs": [],
   "source": [
    "cl2.visualize()"
   ]
  },
  {
   "cell_type": "code",
   "execution_count": null,
   "metadata": {},
   "outputs": [],
   "source": []
  }
 ],
 "metadata": {
  "kernelspec": {
   "display_name": "Python 3",
   "language": "python",
   "name": "python3"
  },
  "language_info": {
   "codemirror_mode": {
    "name": "ipython",
    "version": 3
   },
   "file_extension": ".py",
   "mimetype": "text/x-python",
   "name": "python",
   "nbconvert_exporter": "python",
   "pygments_lexer": "ipython3",
   "version": "3.6.8"
  }
 },
 "nbformat": 4,
 "nbformat_minor": 2
}
