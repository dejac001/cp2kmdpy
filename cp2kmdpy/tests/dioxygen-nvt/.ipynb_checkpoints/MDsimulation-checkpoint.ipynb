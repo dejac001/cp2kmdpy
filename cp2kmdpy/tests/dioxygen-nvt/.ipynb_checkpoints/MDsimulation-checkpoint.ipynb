{
 "cells": [
  {
   "cell_type": "code",
   "execution_count": 1,
   "metadata": {},
   "outputs": [],
   "source": [
    "# Deleting files that we do not need, files generated from a previous run\n",
    "import os\n",
    "import glob\n",
    "\n",
    "extension_list=[\"*inp*\",\"*out\",\"*ener\",\"*rest*\",\"*Hess*\",\"*REST*\",\"*.xyz\",\"*.pdb\"]\n",
    "for name in extension_list:\n",
    "    \n",
    "    filelist=glob.glob(name)\n",
    "    for file in filelist:\n",
    "        os.remove(file)\n",
    "\n",
    "\n",
    "# ### Loading modules\n",
    "\n",
    "\n",
    "\n",
    "\n",
    "import mbuild as mb \n",
    "import numpy as np\n",
    "import unyt as u\n",
    "\n",
    "from cp2kmdpy.molecule_optimization import Molecule_optimization # for single molecule optimization\n",
    "from cp2kmdpy.md import MD # for running MD\n",
    "\n",
    "import setter"
   ]
  },
  {
   "cell_type": "code",
   "execution_count": 2,
   "metadata": {},
   "outputs": [
    {
     "name": "stdout",
     "output_type": "stream",
     "text": [
      "MDsimulation.ipynb  __pycache__  setter.py\r\n"
     ]
    }
   ],
   "source": [
    "!ls"
   ]
  },
  {
   "cell_type": "code",
   "execution_count": 3,
   "metadata": {},
   "outputs": [],
   "source": [
    "\n",
    "class O2(mb.Compound): # this class builds a chlorine molecule with a bond-length given in the chlorine2 x coor (nm)\n",
    "    def __init__(self):\n",
    "        super(O2, self).__init__()\n",
    "        \n",
    "        oxygen1= mb.Particle(pos=[0.0, 0.0, 0.0], name='O')\n",
    "        oxygen2= mb.Particle(pos=[0.15, 0.0, 0.0], name='O')\n",
    "        self.add([oxygen2,oxygen1])\n",
    "        self.add_bond((oxygen2,oxygen1))\n"
   ]
  },
  {
   "cell_type": "code",
   "execution_count": 4,
   "metadata": {},
   "outputs": [],
   "source": [
    "molecule=O2();\n",
    "box=mb.box.Box(lengths=[1,1,1])"
   ]
  },
  {
   "cell_type": "code",
   "execution_count": 11,
   "metadata": {},
   "outputs": [],
   "source": [
    "oxygen_optimization=Molecule_optimization(molecule=molecule,basis_set={'O':'TZV2PX-MOLOPT-GTH'},box=box,cutoff=300,functional='PBE',periodicity='XYZ',n_iter=10,input_filename='rand.inp')"
   ]
  },
  {
   "cell_type": "code",
   "execution_count": 12,
   "metadata": {},
   "outputs": [
    {
     "name": "stdout",
     "output_type": "stream",
     "text": [
      "scf_tolerance not specified, set as 1e-6\n",
      "basis_set_filename not defined, set as BASIS_MOLOPT\n",
      "potential_filename not specified, set as GTH_POTENTIALS\n",
      "fixed_list not specified, set as 1\n",
      "output_filename not specified, set as O2_optimization_output.out\n",
      "You can change default settings in setter.single_molecule_opt_file\n"
     ]
    }
   ],
   "source": [
    "oxygen_optimization.optimization_initialization()"
   ]
  },
  {
   "cell_type": "code",
   "execution_count": 13,
   "metadata": {},
   "outputs": [
    {
     "name": "stdout",
     "output_type": "stream",
     "text": [
      "Initial structure saved as O2_unoptimized_coord.xyz\n",
      "The box should be cubic for non-periodic calculations and the box must be around 15 times the size of the molecule when periodicity is NONE\n",
      "Molecule optimization file saved as rand.inp\n"
     ]
    }
   ],
   "source": [
    "setter.single_molecule_opt_files(oxygen_optimization)"
   ]
  },
  {
   "cell_type": "code",
   "execution_count": 14,
   "metadata": {},
   "outputs": [
    {
     "name": "stdout",
     "output_type": "stream",
     "text": [
      "Input file name given to runner is rand.inp\n",
      "Output file name  is O2_optimization_output.out\n",
      "Output position file name is O2_opt-pos-1.xyz\n"
     ]
    }
   ],
   "source": [
    "\n",
    "\n",
    "oxygen_optimization.run_optimization()"
   ]
  },
  {
   "cell_type": "code",
   "execution_count": 15,
   "metadata": {},
   "outputs": [],
   "source": [
    "optimized_oxygen=oxygen_optimization.return_optimized_molecule()"
   ]
  },
  {
   "cell_type": "code",
   "execution_count": 16,
   "metadata": {},
   "outputs": [
    {
     "data": {
      "text/plain": [
       "0.09812984118380784"
      ]
     },
     "execution_count": 16,
     "metadata": {},
     "output_type": "execute_result"
    }
   ],
   "source": [
    "np.linalg.norm(optimized_oxygen.xyz[1]-optimized_oxygen.xyz[0])"
   ]
  },
  {
   "cell_type": "code",
   "execution_count": null,
   "metadata": {},
   "outputs": [],
   "source": [
    "q=MD(molecules=[a],box=box,cutoff=200,functional='PBE',basis_set={'Cl':'DZVP-MOLOPT-GTH'},periodicity='XYZ',n_molecules=2,traj_type='PDB',seed=1)\n"
   ]
  },
  {
   "cell_type": "code",
   "execution_count": null,
   "metadata": {},
   "outputs": [],
   "source": [
    "q.temperature=273.15*u.K\n",
    "q.ensemble='NVT'"
   ]
  },
  {
   "cell_type": "code",
   "execution_count": null,
   "metadata": {},
   "outputs": [],
   "source": [
    "q.md_initialization()"
   ]
  },
  {
   "cell_type": "code",
   "execution_count": null,
   "metadata": {},
   "outputs": [],
   "source": [
    "setter.md_files(q)"
   ]
  },
  {
   "cell_type": "code",
   "execution_count": null,
   "metadata": {},
   "outputs": [],
   "source": [
    "!cat sample_project_md_input.inp"
   ]
  },
  {
   "cell_type": "code",
   "execution_count": null,
   "metadata": {},
   "outputs": [],
   "source": [
    "!pwd"
   ]
  },
  {
   "cell_type": "code",
   "execution_count": null,
   "metadata": {},
   "outputs": [],
   "source": []
  }
 ],
 "metadata": {
  "kernelspec": {
   "display_name": "Python 3",
   "language": "python",
   "name": "python3"
  },
  "language_info": {
   "codemirror_mode": {
    "name": "ipython",
    "version": 3
   },
   "file_extension": ".py",
   "mimetype": "text/x-python",
   "name": "python",
   "nbconvert_exporter": "python",
   "pygments_lexer": "ipython3",
   "version": "3.6.11"
  }
 },
 "nbformat": 4,
 "nbformat_minor": 4
}
