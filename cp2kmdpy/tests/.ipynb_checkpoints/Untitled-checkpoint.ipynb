{
 "cells": [
  {
   "cell_type": "code",
   "execution_count": 1,
   "metadata": {},
   "outputs": [],
   "source": [
    "# Deleting files that we do not need, files generated from a previous run\n",
    "import os\n",
    "import glob\n",
    "\n",
    "extension_list=[\"*inp*\",\"*out\",\"*ener\",\"*rest*\",\"*Hess*\",\"*REST*\",\"*.xyz\",\"*.pdb\"]\n",
    "for name in extension_list:\n",
    "    \n",
    "    filelist=glob.glob(name)\n",
    "    for file in filelist:\n",
    "        os.remove(file)\n",
    "\n",
    "\n",
    "# ### Loading modules\n",
    "\n",
    "# In[2]:\n",
    "\n",
    "\n",
    "\n",
    "import mbuild as mb \n",
    "\n",
    "import numpy as np\n",
    "\n",
    "import unyt as u\n",
    "\n",
    "from cp2kmd.molecule_optimization import Molecule_optimization\n",
    "from cp2kmd.md import MD\n",
    "#from cp2kmd.molecule_optimization import MD_main\n",
    "import setter"
   ]
  },
  {
   "cell_type": "code",
   "execution_count": 2,
   "metadata": {},
   "outputs": [
    {
     "name": "stdout",
     "output_type": "stream",
     "text": [
      "DLT.ipynb\t__pycache__\t sample_test.py  test_simple.py\r\n",
      "Untitled.ipynb\tmd_pre_out_file  setter.py\t untitled\r\n"
     ]
    }
   ],
   "source": [
    "!ls"
   ]
  },
  {
   "cell_type": "code",
   "execution_count": 3,
   "metadata": {},
   "outputs": [],
   "source": [
    "\n",
    "class Cl2(mb.Compound): # this class builds a chlorine molecule with a bond-length given in the chlorine2 x coor (nm)\n",
    "    def __init__(self):\n",
    "        super(Cl2, self).__init__()\n",
    "        \n",
    "        chlorine1= mb.Particle(pos=[0.0, 0.0, 0.0], name='Cl')\n",
    "        chlorine2= mb.Particle(pos=[0.2, 0.0, 0.0], name='Cl')\n",
    "        self.add([chlorine2,chlorine1])\n",
    "        self.add_bond((chlorine2,chlorine1))\n",
    "        \n",
    "class FCl(mb.Compound): # this class builds a chlorine molecule with a bond-length given in the chlorine2 x coor (nm)\n",
    "    def __init__(self):\n",
    "        super(FCl, self).__init__()\n",
    "        \n",
    "        fluorine1= mb.Particle(pos=[0.0, 0.0, 0.0], name='F')\n",
    "        chlorine2= mb.Particle(pos=[0.2, 0.0, 0.0], name='Cl')\n",
    "        self.add([fluorine1,chlorine2])\n",
    "        self.add_bond((fluorine1,chlorine2))\n"
   ]
  },
  {
   "cell_type": "code",
   "execution_count": 4,
   "metadata": {},
   "outputs": [],
   "source": [
    "molecule=Cl2();\n",
    "box=mb.box.Box(lengths=[1,1,1])"
   ]
  },
  {
   "cell_type": "code",
   "execution_count": 5,
   "metadata": {},
   "outputs": [],
   "source": [
    "p=Molecule_optimization(molecule=molecule,box=box,cutoff=200,functional='PBE',periodicity='XYZ',n_iter=3)"
   ]
  },
  {
   "cell_type": "code",
   "execution_count": 6,
   "metadata": {},
   "outputs": [
    {
     "data": {
      "text/plain": [
       "['__class__',\n",
       " '__delattr__',\n",
       " '__dict__',\n",
       " '__dir__',\n",
       " '__doc__',\n",
       " '__eq__',\n",
       " '__format__',\n",
       " '__ge__',\n",
       " '__getattribute__',\n",
       " '__gt__',\n",
       " '__hash__',\n",
       " '__init__',\n",
       " '__init_subclass__',\n",
       " '__le__',\n",
       " '__lt__',\n",
       " '__module__',\n",
       " '__ne__',\n",
       " '__new__',\n",
       " '__reduce__',\n",
       " '__reduce_ex__',\n",
       " '__repr__',\n",
       " '__setattr__',\n",
       " '__sizeof__',\n",
       " '__str__',\n",
       " '__subclasshook__',\n",
       " '__weakref__',\n",
       " 'basis_set',\n",
       " 'basis_set_filename',\n",
       " 'box',\n",
       " 'cutoff',\n",
       " 'fixed_list',\n",
       " 'functional',\n",
       " 'molecule',\n",
       " 'n_iter',\n",
       " 'optimize_files',\n",
       " 'periodicity',\n",
       " 'potential_filename',\n",
       " 'return_optimized_molecule',\n",
       " 'run_optimization',\n",
       " 'scf_tolerance']"
      ]
     },
     "execution_count": 6,
     "metadata": {},
     "output_type": "execute_result"
    }
   ],
   "source": [
    "dir(p)"
   ]
  },
  {
   "cell_type": "code",
   "execution_count": 7,
   "metadata": {},
   "outputs": [
    {
     "name": "stdout",
     "output_type": "stream",
     "text": [
      "You can change default settings in setter.single_molecule_opt_file\n"
     ]
    }
   ],
   "source": [
    "p.optimize_files()"
   ]
  },
  {
   "cell_type": "code",
   "execution_count": 8,
   "metadata": {},
   "outputs": [],
   "source": [
    "p.run_optimization()\n"
   ]
  },
  {
   "cell_type": "code",
   "execution_count": 9,
   "metadata": {},
   "outputs": [],
   "source": [
    "a=p.return_optimized_molecule()"
   ]
  },
  {
   "cell_type": "code",
   "execution_count": 10,
   "metadata": {},
   "outputs": [],
   "source": [
    "q=MD(molecules=[a],box=box,cutoff=200,functional='PBE',basis_set={'Cl':'DZVP-MOLOPT-GTH'},periodicity='XYZ',n_molecules=2,traj_type='PDB')\n"
   ]
  },
  {
   "cell_type": "code",
   "execution_count": 11,
   "metadata": {},
   "outputs": [
    {
     "data": {
      "text/plain": [
       "['__class__',\n",
       " '__delattr__',\n",
       " '__dict__',\n",
       " '__dir__',\n",
       " '__doc__',\n",
       " '__eq__',\n",
       " '__format__',\n",
       " '__ge__',\n",
       " '__getattribute__',\n",
       " '__gt__',\n",
       " '__hash__',\n",
       " '__init__',\n",
       " '__init_subclass__',\n",
       " '__le__',\n",
       " '__lt__',\n",
       " '__module__',\n",
       " '__ne__',\n",
       " '__new__',\n",
       " '__reduce__',\n",
       " '__reduce_ex__',\n",
       " '__repr__',\n",
       " '__setattr__',\n",
       " '__sizeof__',\n",
       " '__str__',\n",
       " '__subclasshook__',\n",
       " '__weakref__',\n",
       " 'basis_set',\n",
       " 'basis_set_filename',\n",
       " 'box',\n",
       " 'cutoff',\n",
       " 'ensemble',\n",
       " 'fixed_list',\n",
       " 'functional',\n",
       " 'md_files',\n",
       " 'molecules',\n",
       " 'n_molecules',\n",
       " 'periodicity',\n",
       " 'potential_filename',\n",
       " 'pressure',\n",
       " 'project_name',\n",
       " 'scf_tolerance',\n",
       " 'simulation_time',\n",
       " 'temperature',\n",
       " 'thermostat',\n",
       " 'time_step',\n",
       " 'traj_freq',\n",
       " 'traj_type']"
      ]
     },
     "execution_count": 11,
     "metadata": {},
     "output_type": "execute_result"
    }
   ],
   "source": [
    "dir(q)"
   ]
  },
  {
   "cell_type": "code",
   "execution_count": 12,
   "metadata": {},
   "outputs": [
    {
     "name": "stdout",
     "output_type": "stream",
     "text": [
      "You can change default settings in setter.md_files\n"
     ]
    }
   ],
   "source": [
    "q.md_files()"
   ]
  },
  {
   "cell_type": "code",
   "execution_count": 13,
   "metadata": {},
   "outputs": [
    {
     "name": "stdout",
     "output_type": "stream",
     "text": [
      "Cl2_optimization_input.inp  sample_project_md_input.inp\r\n"
     ]
    }
   ],
   "source": [
    "! ls *.inp"
   ]
  },
  {
   "cell_type": "code",
   "execution_count": 15,
   "metadata": {},
   "outputs": [
    {
     "name": "stdout",
     "output_type": "stream",
     "text": [
      "&GLOBAL\r\n",
      "  RUN_TYPE     MD\r\n",
      "  PROJECT      sample_projectpre\r\n",
      "  PRINT_LEVEL  LOW\r\n",
      "&END GLOBAL\r\n",
      "&MOTION\r\n",
      "  &MD\r\n",
      "    ENSEMBLE        NVT\r\n",
      "    TIMESTEP        0.1\r\n",
      "    STEPS           10\r\n",
      "    &THERMOSTAT       \r\n",
      "    &END THERMOSTAT       \r\n",
      "    &BAROSTAT       \r\n",
      "    &END BAROSTAT       \r\n",
      "    &AVERAGES       \r\n",
      "    &END AVERAGES       \r\n",
      "    &PRINT       \r\n",
      "      &ENERGY       \r\n",
      "        &EACH       \r\n",
      "        &END EACH       \r\n",
      "      &END ENERGY       \r\n",
      "      &PROGRAM_RUN_INFO       \r\n",
      "        &EACH       \r\n",
      "        &END EACH       \r\n",
      "      &END PROGRAM_RUN_INFO     \r\n",
      "    &END PRINT       \r\n",
      "  &END MD\r\n",
      " \r\n",
      "  &CONSTRAINT\r\n",
      "    &FIXED_ATOMS      \r\n",
      "    &END FIXED_ATOMS       \r\n",
      "  &END CONSTRAINT\r\n",
      " \r\n",
      "  &PRINT \r\n",
      "    &FORCES        OFF\r\n",
      "      &EACH       \r\n",
      "      &END EACH       \r\n",
      "    &END FORCES        \r\n",
      "    &RESTART_HISTORY        ON\r\n",
      "      &EACH       \r\n",
      "        MD              500             \r\n",
      "      &END EACH       \r\n",
      "    &END RESTART_HISTORY        \r\n",
      "    &RESTART        ON\r\n",
      "      BACKUP_COPIES        3\r\n",
      "      &EACH       \r\n",
      "        MD              1             \r\n",
      "      &END EACH       \r\n",
      "    &END RESTART        \r\n",
      "    &TRAJECTORY       None\r\n",
      "      FORMAT        PDB\r\n",
      "      &EACH       \r\n",
      "        MD              10             \r\n",
      "      &END EACH       \r\n",
      "    &END TRAJECTORY       \r\n",
      "    &STRESS       OFF\r\n",
      "      &EACH       \r\n",
      "      &END EACH       \r\n",
      "    &END STRESS       \r\n",
      "    &VELOCITIES       OFF\r\n",
      "      &EACH       \r\n",
      "      &END EACH       \r\n",
      "    &END VELOCITIES       \r\n",
      "  &END PRINT \r\n",
      "  &GEO_OPT \r\n",
      "    MAX_DR        0.003\r\n",
      "    MAX_FORCE        0.003\r\n",
      "    MAX_ITER        100\r\n",
      "    OPTIMIZER        BFGS\r\n",
      "  &END GEO_OPT \r\n",
      "&END MOTION \r\n",
      "&FORCE_EVAL\r\n",
      "  METHOD        QUICKSTEP\r\n",
      "  STRESS_TENSOR        ANALYTICAL\r\n",
      "  &DFT        \r\n",
      "    BASIS_SET_FILE_NAME        BASIS_MOLOPT\r\n",
      "    CHARGE        0\r\n",
      "    MULTIPLICITY        1\r\n",
      "    POTENTIAL_FILE_NAME        GTH_POTENTIALS\r\n",
      "    &MGRID        \r\n",
      "      CUTOFF      200\r\n",
      "      NGRIDS      4\r\n",
      "      REL_CUTOFF      50\r\n",
      "    &END MGRID        \r\n",
      "    &QS        \r\n",
      "      EPS_DEFAULT       0.0001\r\n",
      "      EXTRAPOLATION       ASPC\r\n",
      "      METHOD       GPW\r\n",
      "    &END QS        \r\n",
      "    &POISSON        \r\n",
      "      PERIODIC       XYZ\r\n",
      "      &EWALD        \r\n",
      "      &END EWALD        \r\n",
      "    &END POISSON        \r\n",
      "    &PRINT         \r\n",
      "      &E_DENSITY_CUBE       OFF\r\n",
      "      &END E_DENSITY_CUBE       \r\n",
      "    &END PRINT        \r\n",
      "    &SCF        \r\n",
      "      EPS_SCF       1e-06\r\n",
      "      MAX_SCF       2\r\n",
      "      SCF_GUESS       ATOMIC\r\n",
      "      &OT       .TRUE. \r\n",
      "        MINIMIZER       DIIS\r\n",
      "        PRECONDITIONER       FULL_SINGLE_INVERSE\r\n",
      "      &END OT        \r\n",
      "      &OUTER_SCF       .TRUE. \r\n",
      "        EPS_SCF       0.0001\r\n",
      "        MAX_SCF       1\r\n",
      "      &END OUTER_SCF        \r\n",
      "      &PRINT        \r\n",
      "        DM_RESTART_WRITE       .TRUE.\r\n",
      "        &RESTART       OFF\r\n",
      "      &END RESTART   \r\n",
      "      &END PRINT       \r\n",
      "    &END SCF        \r\n",
      "    &XC        \r\n",
      "      &XC_FUNCTIONAL       PBE \r\n",
      "      &END XC_FUNCTIONAL     \r\n",
      "      &VDW_POTENTIAL        \r\n",
      "        POTENTIAL_TYPE       PAIR_POTENTIAL\r\n",
      "        &PAIR_POTENTIAL        \r\n",
      "          PARAMETER_FILE_NAME       dftd3.dat\r\n",
      "          REFERENCE_FUNCTIONAL       PBE\r\n",
      "          R_CUTOFF       8\r\n",
      "          TYPE       DFTD3\r\n",
      "        &END PAIR_POTENTIAL        \r\n",
      "      &END VDW_POTENTIAL        \r\n",
      "    &END XC        \r\n",
      "  &END DFT        \r\n",
      "  &SUBSYS        \r\n",
      "    &CELL        \r\n",
      "      ABC       10.0 10.0 10.0\r\n",
      "      ALPHA_BETA_GAMMA       90.0 90.0 90.0\r\n",
      "    &END CELL        \r\n",
      "    &COORD        \r\n",
      "      @INCLUDE       sample_project.xyz\r\n",
      "    &END COORD        \r\n",
      "    &KIND      Cl\r\n",
      "      BASIS_SET       DZVP-MOLOPT-GTH\r\n",
      "      POTENTIAL       GTH-PBE\r\n",
      "    &END KIND        \r\n",
      "    &TOPOLOGY        \r\n",
      "    &END TOPOLOGY       \r\n",
      "  &END SUBSYS        \r\n",
      "&END FORCE_EVAL        \r\n"
     ]
    }
   ],
   "source": [
    "!cat sample_project_md_input.inp"
   ]
  },
  {
   "cell_type": "code",
   "execution_count": null,
   "metadata": {},
   "outputs": [],
   "source": []
  },
  {
   "cell_type": "code",
   "execution_count": null,
   "metadata": {},
   "outputs": [],
   "source": []
  },
  {
   "cell_type": "code",
   "execution_count": null,
   "metadata": {},
   "outputs": [],
   "source": []
  },
  {
   "cell_type": "code",
   "execution_count": null,
   "metadata": {},
   "outputs": [],
   "source": []
  },
  {
   "cell_type": "code",
   "execution_count": null,
   "metadata": {},
   "outputs": [],
   "source": []
  },
  {
   "cell_type": "code",
   "execution_count": null,
   "metadata": {},
   "outputs": [],
   "source": []
  },
  {
   "cell_type": "code",
   "execution_count": null,
   "metadata": {},
   "outputs": [],
   "source": []
  }
 ],
 "metadata": {
  "kernelspec": {
   "display_name": "Python 3",
   "language": "python",
   "name": "python3"
  },
  "language_info": {
   "codemirror_mode": {
    "name": "ipython",
    "version": 3
   },
   "file_extension": ".py",
   "mimetype": "text/x-python",
   "name": "python",
   "nbconvert_exporter": "python",
   "pygments_lexer": "ipython3",
   "version": "3.6.11"
  }
 },
 "nbformat": 4,
 "nbformat_minor": 4
}
