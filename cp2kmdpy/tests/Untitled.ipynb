{
 "cells": [
  {
   "cell_type": "code",
   "execution_count": 1,
   "metadata": {},
   "outputs": [],
   "source": [
    "# Deleting files that we do not need, files generated from a previous run\n",
    "import os\n",
    "import glob\n",
    "\n",
    "extension_list=[\"*inp*\",\"*out\",\"*ener\",\"*rest*\",\"*Hess*\",\"*REST*\",\"*.xyz\",\"*.pdb\"]\n",
    "for name in extension_list:\n",
    "    \n",
    "    filelist=glob.glob(name)\n",
    "    for file in filelist:\n",
    "        os.remove(file)\n",
    "\n",
    "\n",
    "# ### Loading modules\n",
    "\n",
    "# In[2]:\n",
    "\n",
    "\n",
    "\n",
    "import mbuild as mb \n",
    "\n",
    "import numpy as np\n",
    "\n",
    "import unyt as u\n",
    "\n",
    "from cp2kmdpy.molecule_optimization import Molecule_optimization\n",
    "from cp2kmdpy.md import MD\n",
    "#from cp2kmd.molecule_optimization import MD_main\n",
    "import setter"
   ]
  },
  {
   "cell_type": "code",
   "execution_count": 2,
   "metadata": {},
   "outputs": [
    {
     "name": "stdout",
     "output_type": "stream",
     "text": [
      "DLT.ipynb\t__pycache__\t sample_test.py  test_simple.py\r\n",
      "Untitled.ipynb\tmd_pre_out_file  setter.py\t untitled\r\n"
     ]
    }
   ],
   "source": [
    "!ls"
   ]
  },
  {
   "cell_type": "code",
   "execution_count": 3,
   "metadata": {},
   "outputs": [],
   "source": [
    "\n",
    "class Cl2(mb.Compound): # this class builds a chlorine molecule with a bond-length given in the chlorine2 x coor (nm)\n",
    "    def __init__(self):\n",
    "        super(Cl2, self).__init__()\n",
    "        \n",
    "        chlorine1= mb.Particle(pos=[0.0, 0.0, 0.0], name='Cl')\n",
    "        chlorine2= mb.Particle(pos=[0.2, 0.0, 0.0], name='Cl')\n",
    "        self.add([chlorine2,chlorine1])\n",
    "        self.add_bond((chlorine2,chlorine1))\n",
    "        \n",
    "class FCl(mb.Compound): # this class builds a chlorine molecule with a bond-length given in the chlorine2 x coor (nm)\n",
    "    def __init__(self):\n",
    "        super(FCl, self).__init__()\n",
    "        \n",
    "        fluorine1= mb.Particle(pos=[0.0, 0.0, 0.0], name='F')\n",
    "        chlorine2= mb.Particle(pos=[0.2, 0.0, 0.0], name='Cl')\n",
    "        self.add([fluorine1,chlorine2])\n",
    "        self.add_bond((fluorine1,chlorine2))\n"
   ]
  },
  {
   "cell_type": "code",
   "execution_count": 4,
   "metadata": {},
   "outputs": [],
   "source": [
    "molecule=Cl2();\n",
    "box=mb.box.Box(lengths=[1,1,1])"
   ]
  },
  {
   "cell_type": "code",
   "execution_count": 5,
   "metadata": {},
   "outputs": [],
   "source": [
    "p=Molecule_optimization(molecule=molecule,box=box,cutoff=200,functional='PBE',periodicity='XYZ',n_iter=3)"
   ]
  },
  {
   "cell_type": "code",
   "execution_count": null,
   "metadata": {},
   "outputs": [],
   "source": []
  },
  {
   "cell_type": "code",
   "execution_count": 6,
   "metadata": {},
   "outputs": [
    {
     "name": "stdout",
     "output_type": "stream",
     "text": [
      "scf_tolerance not specified, set as 1e-6\n",
      "basis_set_filename not defined, set as BASIS_MOLOPT\n",
      "potential_filename not specified, set as GTH_POTENTIALS\n",
      "fixed_list not specified, set as 1\n",
      "You can change default settings in setter.single_molecule_opt_file\n"
     ]
    }
   ],
   "source": [
    "p.optimization_initialization()"
   ]
  },
  {
   "cell_type": "code",
   "execution_count": 7,
   "metadata": {},
   "outputs": [
    {
     "name": "stdout",
     "output_type": "stream",
     "text": [
      "Initial structure saved as Cl2_unoptimized_coord.xyz\n",
      "Molecule optimization file saved as Cl2_optimization_input.inp\n",
      "Input file name given to runner is Cl2_optimization_input.inp\n",
      "Output file name  is Cl2_optimization_output.out\n",
      "Output position file name is Cl2_opt-pos-1.xyz\n"
     ]
    }
   ],
   "source": [
    "setter.single_molecule_opt_files(p)\n",
    "\n",
    "p.run_optimization()"
   ]
  },
  {
   "cell_type": "code",
   "execution_count": 8,
   "metadata": {},
   "outputs": [],
   "source": [
    "a=p.return_optimized_molecule()"
   ]
  },
  {
   "cell_type": "code",
   "execution_count": 9,
   "metadata": {},
   "outputs": [
    {
     "data": {
      "text/plain": [
       "<Cl2 2 particles, non-periodic, 1 bonds, id: 140175793524296>"
      ]
     },
     "execution_count": 9,
     "metadata": {},
     "output_type": "execute_result"
    }
   ],
   "source": [
    "a"
   ]
  },
  {
   "cell_type": "code",
   "execution_count": 10,
   "metadata": {},
   "outputs": [],
   "source": [
    "q=MD(molecules=[a],box=box,cutoff=200,functional='PBE',basis_set={'Cl':'DZVP-MOLOPT-GTH'},periodicity='XYZ',n_molecules=2,traj_type='PDB',seed=1)\n"
   ]
  },
  {
   "cell_type": "code",
   "execution_count": 11,
   "metadata": {},
   "outputs": [],
   "source": [
    "q.temperature=273.15*u.K\n",
    "q.ensemble='NVT'"
   ]
  },
  {
   "cell_type": "code",
   "execution_count": 13,
   "metadata": {},
   "outputs": [
    {
     "name": "stdout",
     "output_type": "stream",
     "text": [
      "project_name not specified, set as sample_project\n",
      "scf_tolerance not specified, set as 1e-6\n",
      "basis_set_filename not defined, set as BASIS_MOLOPT\n",
      "potential_filename not specified, set as GTH_POTENTIALS\n",
      "simulation_time not specified, set as 1 ps\n",
      "time_step not specified, time_step set as 1 fs as the lighest element has mass 35.453 au\n",
      "You can change default settings in setter.md_files\n"
     ]
    }
   ],
   "source": [
    "q.md_initialization()"
   ]
  },
  {
   "cell_type": "code",
   "execution_count": 15,
   "metadata": {},
   "outputs": [
    {
     "name": "stdout",
     "output_type": "stream",
     "text": [
      "MD initial structure saved as sample_project.xyz\n",
      "MD input file saved as sample_project_md_input.inp\n"
     ]
    }
   ],
   "source": [
    "setter.md_files(q)"
   ]
  },
  {
   "cell_type": "code",
   "execution_count": 16,
   "metadata": {},
   "outputs": [
    {
     "name": "stdout",
     "output_type": "stream",
     "text": [
      "&GLOBAL\r\n",
      "  RUN_TYPE     MD\r\n",
      "  PROJECT      sample_project\r\n",
      "  PRINT_LEVEL  LOW\r\n",
      "  SEED  1\r\n",
      "&END GLOBAL\r\n",
      "&MOTION\r\n",
      "  &MD\r\n",
      "    ENSEMBLE        NVT\r\n",
      "    TIMESTEP        1.0\r\n",
      "    STEPS           1\r\n",
      "    TEMPERATURE     273.15\r\n",
      "    &THERMOSTAT       \r\n",
      "    &END THERMOSTAT       \r\n",
      "    &BAROSTAT       \r\n",
      "    &END BAROSTAT       \r\n",
      "    &AVERAGES       \r\n",
      "    &END AVERAGES       \r\n",
      "    &PRINT       \r\n",
      "      &ENERGY       \r\n",
      "        &EACH       \r\n",
      "        &END EACH       \r\n",
      "      &END ENERGY       \r\n",
      "      &PROGRAM_RUN_INFO       \r\n",
      "        &EACH       \r\n",
      "        &END EACH       \r\n",
      "      &END PROGRAM_RUN_INFO     \r\n",
      "    &END PRINT       \r\n",
      "  &END MD\r\n",
      " \r\n",
      "  &CONSTRAINT\r\n",
      "    &FIXED_ATOMS      \r\n",
      "    &END FIXED_ATOMS       \r\n",
      "  &END CONSTRAINT\r\n",
      " \r\n",
      "  &PRINT \r\n",
      "    &FORCES        OFF\r\n",
      "      &EACH       \r\n",
      "      &END EACH       \r\n",
      "    &END FORCES        \r\n",
      "    &RESTART_HISTORY        ON\r\n",
      "      &EACH       \r\n",
      "        MD              500             \r\n",
      "      &END EACH       \r\n",
      "    &END RESTART_HISTORY        \r\n",
      "    &RESTART        ON\r\n",
      "      BACKUP_COPIES        3\r\n",
      "      &EACH       \r\n",
      "        MD              1             \r\n",
      "      &END EACH       \r\n",
      "    &END RESTART        \r\n",
      "    &TRAJECTORY       LOW\r\n",
      "      FORMAT        PDB\r\n",
      "      &EACH       \r\n",
      "        MD              10             \r\n",
      "      &END EACH       \r\n",
      "    &END TRAJECTORY       \r\n",
      "    &STRESS       OFF\r\n",
      "      &EACH       \r\n",
      "      &END EACH       \r\n",
      "    &END STRESS       \r\n",
      "    &VELOCITIES       OFF\r\n",
      "      &EACH       \r\n",
      "      &END EACH       \r\n",
      "    &END VELOCITIES       \r\n",
      "  &END PRINT \r\n",
      "  &GEO_OPT \r\n",
      "    MAX_DR        0.003\r\n",
      "    MAX_FORCE        0.003\r\n",
      "    MAX_ITER        100\r\n",
      "    OPTIMIZER        BFGS\r\n",
      "  &END GEO_OPT \r\n",
      "&END MOTION \r\n",
      "&FORCE_EVAL\r\n",
      "  METHOD        QUICKSTEP\r\n",
      "  STRESS_TENSOR        ANALYTICAL\r\n",
      "  &DFT        \r\n",
      "    BASIS_SET_FILE_NAME        BASIS_MOLOPT\r\n",
      "    CHARGE        0\r\n",
      "    MULTIPLICITY        1\r\n",
      "    POTENTIAL_FILE_NAME        GTH_POTENTIALS\r\n",
      "    &MGRID        \r\n",
      "      CUTOFF      200\r\n",
      "      NGRIDS      4\r\n",
      "      REL_CUTOFF      50\r\n",
      "    &END MGRID        \r\n",
      "    &QS        \r\n",
      "      EPS_DEFAULT       0.0001\r\n",
      "      EXTRAPOLATION       ASPC\r\n",
      "      METHOD       GPW\r\n",
      "    &END QS        \r\n",
      "    &POISSON        \r\n",
      "      PERIODIC       XYZ\r\n",
      "      &EWALD        \r\n",
      "      &END EWALD        \r\n",
      "    &END POISSON        \r\n",
      "    &PRINT         \r\n",
      "      &E_DENSITY_CUBE       OFF\r\n",
      "      &END E_DENSITY_CUBE       \r\n",
      "    &END PRINT        \r\n",
      "    &SCF        \r\n",
      "      EPS_SCF       1e-06\r\n",
      "      MAX_SCF       2\r\n",
      "      SCF_GUESS       ATOMIC\r\n",
      "      &OT       .TRUE. \r\n",
      "        MINIMIZER       DIIS\r\n",
      "        PRECONDITIONER       FULL_SINGLE_INVERSE\r\n",
      "      &END OT        \r\n",
      "      &OUTER_SCF       .TRUE. \r\n",
      "        EPS_SCF       0.0001\r\n",
      "        MAX_SCF       1\r\n",
      "      &END OUTER_SCF        \r\n",
      "      &PRINT        \r\n",
      "        DM_RESTART_WRITE       .TRUE.\r\n",
      "        &RESTART       OFF\r\n",
      "      &END RESTART   \r\n",
      "      &END PRINT       \r\n",
      "    &END SCF        \r\n",
      "    &XC        \r\n",
      "      &XC_FUNCTIONAL       PBE \r\n",
      "      &END XC_FUNCTIONAL     \r\n",
      "      &VDW_POTENTIAL        \r\n",
      "        POTENTIAL_TYPE       PAIR_POTENTIAL\r\n",
      "        &PAIR_POTENTIAL        \r\n",
      "          PARAMETER_FILE_NAME       dftd3.dat\r\n",
      "          REFERENCE_FUNCTIONAL       PBE\r\n",
      "          R_CUTOFF       8\r\n",
      "          TYPE       DFTD3\r\n",
      "        &END PAIR_POTENTIAL        \r\n",
      "      &END VDW_POTENTIAL        \r\n",
      "    &END XC        \r\n",
      "  &END DFT        \r\n",
      "  &SUBSYS        \r\n",
      "    &CELL        \r\n",
      "      ABC       10.0 10.0 10.0\r\n",
      "      ALPHA_BETA_GAMMA       90.0 90.0 90.0\r\n",
      "    &END CELL        \r\n",
      "    &COORD        \r\n",
      "      @INCLUDE       sample_project.xyz\r\n",
      "    &END COORD        \r\n",
      "    &KIND      Cl\r\n",
      "      BASIS_SET       DZVP-MOLOPT-GTH\r\n",
      "      POTENTIAL       GTH-PBE\r\n",
      "    &END KIND        \r\n",
      "    &TOPOLOGY        \r\n",
      "    &END TOPOLOGY       \r\n",
      "  &END SUBSYS        \r\n",
      "&END FORCE_EVAL        \r\n"
     ]
    }
   ],
   "source": [
    "!cat sample_project_md_input.inp"
   ]
  },
  {
   "cell_type": "code",
   "execution_count": null,
   "metadata": {},
   "outputs": [],
   "source": [
    "!pwd"
   ]
  },
  {
   "cell_type": "code",
   "execution_count": null,
   "metadata": {},
   "outputs": [],
   "source": []
  }
 ],
 "metadata": {
  "kernelspec": {
   "display_name": "Python 3",
   "language": "python",
   "name": "python3"
  },
  "language_info": {
   "codemirror_mode": {
    "name": "ipython",
    "version": 3
   },
   "file_extension": ".py",
   "mimetype": "text/x-python",
   "name": "python",
   "nbconvert_exporter": "python",
   "pygments_lexer": "ipython3",
   "version": "3.6.11"
  }
 },
 "nbformat": 4,
 "nbformat_minor": 4
}
