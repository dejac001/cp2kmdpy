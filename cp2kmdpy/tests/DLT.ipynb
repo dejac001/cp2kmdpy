{
 "cells": [
  {
   "cell_type": "code",
   "execution_count": 13,
   "metadata": {},
   "outputs": [],
   "source": [
    "import numpy as np\n",
    "import datetime\n",
    "import types\n",
    "\n",
    "# Numerical stuff\n",
    "def is_number(val):\n",
    "  try:\n",
    "    v = float(val)\n",
    "    return True\n",
    "  except (ValueError,TypeError):\n",
    "    return False\n",
    "\n",
    "def is_integer(val):\n",
    "  return (isinstance(val,int) or isinstance(val,np.int8) or isinstance(val,np.int16) or \n",
    "          isinstance(val,np.int32) or isinstance(val,np.int64))\n",
    "\n",
    "def is_positive_integer(val):\n",
    "  if is_integer(val):\n",
    "    return val >= 0\n",
    "  else:\n",
    "    return False\n",
    "\n",
    "def is_positive_number(val):\n",
    "  if is_number(val):\n",
    "    return val >= 0\n",
    "  else:\n",
    "    return False\n",
    "\n",
    "#Make datetime string prettier\n",
    "def datetimePrettify(dt):\n",
    "  return dt\n",
    "\n",
    "def is_string(val):\n",
    "    return isinstance(var, str)\n",
    "\n",
    "def is_list(val):\n",
    "    if type(val) is list:\n",
    "        return True\n",
    "    else:\n",
    "        return False\n",
    "    \n",
    "def is_list_of_numbers(val):\n",
    "    if is_list(val):\n",
    "        k=0\n",
    "        while k <len(val):\n",
    "            if not is_number(val[k]):\n",
    "                return False\n",
    "                break\n",
    "            else:\n",
    "                k+=1\n",
    "        return True\n",
    "             \n",
    "    else:\n",
    "        return False"
   ]
  },
  {
   "cell_type": "code",
   "execution_count": 16,
   "metadata": {},
   "outputs": [],
   "source": [
    "A=[1,2,'a']"
   ]
  },
  {
   "cell_type": "code",
   "execution_count": 17,
   "metadata": {},
   "outputs": [],
   "source": [
    "if  is_list_of_numbers(A):\n",
    "    print(1)"
   ]
  },
  {
   "cell_type": "code",
   "execution_count": 12,
   "metadata": {},
   "outputs": [
    {
     "data": {
      "text/plain": [
       "True"
      ]
     },
     "execution_count": 12,
     "metadata": {},
     "output_type": "execute_result"
    }
   ],
   "source": [
    "is_number(1)"
   ]
  },
  {
   "cell_type": "code",
   "execution_count": null,
   "metadata": {},
   "outputs": [],
   "source": []
  }
 ],
 "metadata": {
  "kernelspec": {
   "display_name": "Python 3",
   "language": "python",
   "name": "python3"
  },
  "language_info": {
   "codemirror_mode": {
    "name": "ipython",
    "version": 3
   },
   "file_extension": ".py",
   "mimetype": "text/x-python",
   "name": "python",
   "nbconvert_exporter": "python",
   "pygments_lexer": "ipython3",
   "version": "3.6.11"
  }
 },
 "nbformat": 4,
 "nbformat_minor": 4
}
